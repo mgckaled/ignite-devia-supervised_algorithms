{
 "cells": [
  {
   "cell_type": "markdown",
   "metadata": {},
   "source": [
    "## Desafio - Regressão Polinominal"
   ]
  },
  {
   "cell_type": "markdown",
   "metadata": {},
   "source": [
    "### Importação de Dependências"
   ]
  },
  {
   "cell_type": "code",
   "execution_count": 1,
   "metadata": {},
   "outputs": [],
   "source": [
    "# AED\n",
    "import pandas as pd\n",
    "import matplotlib.pyplot as plt\n",
    "\n",
    "# Maths and Stats\n",
    "import numpy as np\n",
    "\n",
    "# ML\n",
    "from sklearn.model_selection import train_test_split\n",
    "from sklearn.linear_model import LinearRegression\n",
    "from sklearn.preprocessing import PolynomialFeatures\n",
    "from sklearn.metrics import mean_squared_error, r2_score"
   ]
  },
  {
   "cell_type": "markdown",
   "metadata": {},
   "source": [
    "### Carregar Dados e Info sobre os dados"
   ]
  },
  {
   "cell_type": "code",
   "execution_count": 2,
   "metadata": {},
   "outputs": [
    {
     "name": "stdout",
     "output_type": "stream",
     "text": [
      "<class 'pandas.core.frame.DataFrame'>\n",
      "RangeIndex: 100 entries, 0 to 99\n",
      "Data columns (total 4 columns):\n",
      " #   Column                Non-Null Count  Dtype  \n",
      "---  ------                --------------  -----  \n",
      " 0   tempo_de_experiencia  100 non-null    int64  \n",
      " 1   numero_de_vendas      100 non-null    int64  \n",
      " 2   fator_sazonal         100 non-null    int64  \n",
      " 3   receita_em_reais      100 non-null    float64\n",
      "dtypes: float64(1), int64(3)\n",
      "memory usage: 3.3 KB\n"
     ]
    }
   ],
   "source": [
    "df_sales = pd.read_csv(filepath_or_buffer='../../datasets/challenges/dataset_sales_data.csv')\n",
    "df_sales.info()"
   ]
  },
  {
   "cell_type": "code",
   "execution_count": 3,
   "metadata": {},
   "outputs": [
    {
     "data": {
      "application/vnd.microsoft.datawrangler.viewer.v0+json": {
       "columns": [
        {
         "name": "index",
         "rawType": "int64",
         "type": "integer"
        },
        {
         "name": "tempo_de_experiencia",
         "rawType": "int64",
         "type": "integer"
        },
        {
         "name": "numero_de_vendas",
         "rawType": "int64",
         "type": "integer"
        },
        {
         "name": "fator_sazonal",
         "rawType": "int64",
         "type": "integer"
        },
        {
         "name": "receita_em_reais",
         "rawType": "float64",
         "type": "float"
        }
       ],
       "conversionMethod": "pd.DataFrame",
       "ref": "b80a5060-f894-44cf-aa3c-221e0bc80cd7",
       "rows": [
        [
         "0",
         "36",
         "21",
         "5",
         "2639.8869407846896"
        ],
        [
         "1",
         "74",
         "44",
         "10",
         "4707.322226850152"
        ],
        [
         "2",
         "38",
         "44",
         "4",
         "5910.035130891204"
        ],
        [
         "3",
         "52",
         "62",
         "6",
         "6130.742546486002"
        ],
        [
         "4",
         "97",
         "56",
         "2",
         "7516.457680690254"
        ],
        [
         "5",
         "67",
         "70",
         "10",
         "1247.8823242655153"
        ],
        [
         "6",
         "119",
         "69",
         "2",
         "3485.606208414592"
        ],
        [
         "7",
         "66",
         "62",
         "2",
         "2773.9874271755166"
        ],
        [
         "8",
         "68",
         "96",
         "3",
         "4177.919578421624"
        ],
        [
         "9",
         "106",
         "42",
         "2",
         "4719.691069103556"
        ]
       ],
       "shape": {
        "columns": 4,
        "rows": 10
       }
      },
      "text/html": [
       "<div>\n",
       "<style scoped>\n",
       "    .dataframe tbody tr th:only-of-type {\n",
       "        vertical-align: middle;\n",
       "    }\n",
       "\n",
       "    .dataframe tbody tr th {\n",
       "        vertical-align: top;\n",
       "    }\n",
       "\n",
       "    .dataframe thead th {\n",
       "        text-align: right;\n",
       "    }\n",
       "</style>\n",
       "<table border=\"1\" class=\"dataframe\">\n",
       "  <thead>\n",
       "    <tr style=\"text-align: right;\">\n",
       "      <th></th>\n",
       "      <th>tempo_de_experiencia</th>\n",
       "      <th>numero_de_vendas</th>\n",
       "      <th>fator_sazonal</th>\n",
       "      <th>receita_em_reais</th>\n",
       "    </tr>\n",
       "  </thead>\n",
       "  <tbody>\n",
       "    <tr>\n",
       "      <th>0</th>\n",
       "      <td>36</td>\n",
       "      <td>21</td>\n",
       "      <td>5</td>\n",
       "      <td>2639.886941</td>\n",
       "    </tr>\n",
       "    <tr>\n",
       "      <th>1</th>\n",
       "      <td>74</td>\n",
       "      <td>44</td>\n",
       "      <td>10</td>\n",
       "      <td>4707.322227</td>\n",
       "    </tr>\n",
       "    <tr>\n",
       "      <th>2</th>\n",
       "      <td>38</td>\n",
       "      <td>44</td>\n",
       "      <td>4</td>\n",
       "      <td>5910.035131</td>\n",
       "    </tr>\n",
       "    <tr>\n",
       "      <th>3</th>\n",
       "      <td>52</td>\n",
       "      <td>62</td>\n",
       "      <td>6</td>\n",
       "      <td>6130.742546</td>\n",
       "    </tr>\n",
       "    <tr>\n",
       "      <th>4</th>\n",
       "      <td>97</td>\n",
       "      <td>56</td>\n",
       "      <td>2</td>\n",
       "      <td>7516.457681</td>\n",
       "    </tr>\n",
       "    <tr>\n",
       "      <th>5</th>\n",
       "      <td>67</td>\n",
       "      <td>70</td>\n",
       "      <td>10</td>\n",
       "      <td>1247.882324</td>\n",
       "    </tr>\n",
       "    <tr>\n",
       "      <th>6</th>\n",
       "      <td>119</td>\n",
       "      <td>69</td>\n",
       "      <td>2</td>\n",
       "      <td>3485.606208</td>\n",
       "    </tr>\n",
       "    <tr>\n",
       "      <th>7</th>\n",
       "      <td>66</td>\n",
       "      <td>62</td>\n",
       "      <td>2</td>\n",
       "      <td>2773.987427</td>\n",
       "    </tr>\n",
       "    <tr>\n",
       "      <th>8</th>\n",
       "      <td>68</td>\n",
       "      <td>96</td>\n",
       "      <td>3</td>\n",
       "      <td>4177.919578</td>\n",
       "    </tr>\n",
       "    <tr>\n",
       "      <th>9</th>\n",
       "      <td>106</td>\n",
       "      <td>42</td>\n",
       "      <td>2</td>\n",
       "      <td>4719.691069</td>\n",
       "    </tr>\n",
       "  </tbody>\n",
       "</table>\n",
       "</div>"
      ],
      "text/plain": [
       "   tempo_de_experiencia  numero_de_vendas  fator_sazonal  receita_em_reais\n",
       "0                    36                21              5       2639.886941\n",
       "1                    74                44             10       4707.322227\n",
       "2                    38                44              4       5910.035131\n",
       "3                    52                62              6       6130.742546\n",
       "4                    97                56              2       7516.457681\n",
       "5                    67                70             10       1247.882324\n",
       "6                   119                69              2       3485.606208\n",
       "7                    66                62              2       2773.987427\n",
       "8                    68                96              3       4177.919578\n",
       "9                   106                42              2       4719.691069"
      ]
     },
     "execution_count": 3,
     "metadata": {},
     "output_type": "execute_result"
    }
   ],
   "source": [
    "df_sales.head(10)"
   ]
  },
  {
   "cell_type": "markdown",
   "metadata": {},
   "source": [
    "### Preparação e Treinamento do Modelo"
   ]
  },
  {
   "cell_type": "code",
   "execution_count": 4,
   "metadata": {},
   "outputs": [],
   "source": [
    "# Separação dos dados em treino e teste\n",
    "X = df_sales[['tempo_de_experiencia', 'numero_de_vendas', 'fator_sazonal']]\n",
    "y = df_sales['receita_em_reais']\n",
    "X_train, X_test, y_train, y_test = train_test_split(\n",
    "    X, y, test_size=0.2, random_state=42)"
   ]
  },
  {
   "cell_type": "code",
   "execution_count": 5,
   "metadata": {},
   "outputs": [],
   "source": [
    "# Criação: Regressão Linear\n",
    "linear_model = LinearRegression()\n",
    "linear_model.fit(X_train, y_train)\n",
    "y_pred_linear = linear_model.predict(X_test)"
   ]
  },
  {
   "cell_type": "code",
   "execution_count": 6,
   "metadata": {},
   "outputs": [],
   "source": [
    "# Criação: Regressão Polinomial\n",
    "poly_features = PolynomialFeatures(degree=2)\n",
    "X_train_poly = poly_features.fit_transform(X_train)\n",
    "X_test_poly = poly_features.transform(X_test)\n",
    "poly_model = LinearRegression()\n",
    "poly_model.fit(X_train_poly, y_train)\n",
    "y_pred_poly = poly_model.predict(X_test_poly)"
   ]
  },
  {
   "cell_type": "markdown",
   "metadata": {},
   "source": [
    "### Avaliação dos Modelos"
   ]
  },
  {
   "cell_type": "code",
   "execution_count": 7,
   "metadata": {},
   "outputs": [
    {
     "name": "stdout",
     "output_type": "stream",
     "text": [
      "MSE Linear: 4839044.565665031, R² Linear: -0.06596934817736\n"
     ]
    }
   ],
   "source": [
    "# Avaliação do Modelo Linear\n",
    "mse_linear = mean_squared_error(y_test, y_pred_linear)\n",
    "r2_linear = r2_score(y_test, y_pred_linear)\n",
    "print(f'MSE Linear: {mse_linear}, R² Linear: {r2_linear}')"
   ]
  },
  {
   "cell_type": "code",
   "execution_count": 8,
   "metadata": {},
   "outputs": [
    {
     "name": "stdout",
     "output_type": "stream",
     "text": [
      "MSE Polinomial: 3983443.6051544314, R² Polinomial: 0.12250678296776918\n"
     ]
    }
   ],
   "source": [
    "# Avaliação do Modelo Polinomial\n",
    "mse_poly = mean_squared_error(y_test, y_pred_poly)\n",
    "r2_poly = r2_score(y_test, y_pred_poly)\n",
    "print(f'MSE Polinomial: {mse_poly}, R² Polinomial: {r2_poly}')"
   ]
  },
  {
   "cell_type": "code",
   "execution_count": 9,
   "metadata": {},
   "outputs": [
    {
     "data": {
      "image/png": "[encoded data removed]",
      "text/plain": [
       "<Figure size 1400x600 with 1 Axes>"
      ]
     },
     "metadata": {},
     "output_type": "display_data"
    }
   ],
   "source": [
    "# Criando a figura\n",
    "plt.figure(figsize=(14, 6))\n",
    "plt.style.use('seaborn-v0_8-darkgrid') \n",
    "\n",
    "# Scatter plot para as previsões\n",
    "plt.scatter(y_test, y_pred_linear, color='royalblue',\n",
    "            alpha=0.6, edgecolors='k', label='Regressão Linear')\n",
    "plt.scatter(y_test, y_pred_poly, color='crimson', alpha=0.6,\n",
    "            edgecolors='k', label='Regressão Polinomial')\n",
    "\n",
    "# Linha de referência (ideal)\n",
    "plt.plot([y_test.min(), y_test.max()], [y_test.min(), y_test.max()],\n",
    "         '--', color='gray', linewidth=2, label='Ideal (y = x)')\n",
    "\n",
    "# Personalizações\n",
    "plt.xlabel('Valores Reais', fontsize=12)\n",
    "plt.ylabel('Valores Preditos', fontsize=12)\n",
    "plt.title('Comparação de Modelos: Linear vs. Polinomial',\n",
    "          fontsize=14, fontweight='bold')\n",
    "plt.legend(fontsize=11)\n",
    "plt.grid(True, linestyle='--', alpha=0.7)\n",
    "\n",
    "# Exibir gráfico\n",
    "plt.show()"
   ]
  },
  {
   "cell_type": "markdown",
   "metadata": {},
   "source": [
    "### Uso para Previsões"
   ]
  },
  {
   "cell_type": "code",
   "execution_count": 10,
   "metadata": {},
   "outputs": [
    {
     "name": "stdout",
     "output_type": "stream",
     "text": [
      "[4965.05129851]\n",
      "[4871.1166741]\n"
     ]
    }
   ],
   "source": [
    "# Linear\n",
    "# Valores para previsão\n",
    "tempo_de_experiencia_1 = 37\n",
    "numero_de_vendas_1 = 29\n",
    "fator_sazonal_1 = 5\n",
    "\n",
    "linear_model = LinearRegression()\n",
    "linear_model.fit(X_train, y_train)\n",
    "\n",
    "# Criar um DataFrame para a previsão com os mesmos nomes de colunas de X_train\n",
    "X_prev1_sales = pd.DataFrame(\n",
    "    [[tempo_de_experiencia_1, numero_de_vendas_1, fator_sazonal_1]], columns=X_train.columns)\n",
    "\n",
    "receita_prev_linear_1 = linear_model.predict(X_prev1_sales)\n",
    "\n",
    "print(receita_prev_linear_1)\n",
    "\n",
    "# Valores para previsão\n",
    "tempo_de_experiencia_2 = 45\n",
    "numero_de_vendas_2 = 32\n",
    "fator_sazonal_2 = 4\n",
    "\n",
    "# Criar um DataFrame para a previsão com os mesmos nomes de colunas de X_train\n",
    "X_prev2_sales = pd.DataFrame(\n",
    "    [[tempo_de_experiencia_2, numero_de_vendas_2, fator_sazonal_2]], columns=X_train.columns)\n",
    "\n",
    "receita_prev_linear_2 = linear_model.predict(X_prev2_sales)\n",
    "\n",
    "print(receita_prev_linear_2)"
   ]
  },
  {
   "cell_type": "code",
   "execution_count": 11,
   "metadata": {},
   "outputs": [
    {
     "name": "stdout",
     "output_type": "stream",
     "text": [
      "Predição com Regressão Linear para os valores (tempo de experiência=80, número de vendas=150, fator sazonal=8): Receita Estimada = R$ 5,818.14\n",
      "Predição com Regressão Polinomial para os valores (tempo de experiência=80, número de vendas=150, fator sazonal=8): Receita Estimada = R$ 4,300.52\n"
     ]
    },
    {
     "name": "stderr",
     "output_type": "stream",
     "text": [
      "c:\\Users\\Usuário\\.virtualenvs\\supervised_algorithms-WLhrZFFA\\Lib\\site-packages\\sklearn\\base.py:493: UserWarning: X does not have valid feature names, but LinearRegression was fitted with feature names\n",
      "  warnings.warn(\n",
      "c:\\Users\\Usuário\\.virtualenvs\\supervised_algorithms-WLhrZFFA\\Lib\\site-packages\\sklearn\\base.py:493: UserWarning: X does not have valid feature names, but PolynomialFeatures was fitted with feature names\n",
      "  warnings.warn(\n"
     ]
    }
   ],
   "source": [
    "tempo_de_experiencia_pred = 80  # meses de experiência\n",
    "numero_de_vendas_pred = 150     # número de vendas\n",
    "fator_sazonal_pred = 8          # fator sazonal\n",
    "\n",
    "# Crie um array com os valores das variáveis para predição\n",
    "X_new = np.array(\n",
    "    [[tempo_de_experiencia_pred, numero_de_vendas_pred, fator_sazonal_pred]])\n",
    "\n",
    "# Predição usando Regressão Linear\n",
    "y_pred_linear_new = linear_model.predict(X_new)\n",
    "print(f'Predição com Regressão Linear para os valores (tempo de experiência={tempo_de_experiencia_pred}, '\n",
    "      f'número de vendas={numero_de_vendas_pred}, fator sazonal={fator_sazonal_pred}): '\n",
    "      f'Receita Estimada = R$ {y_pred_linear_new[0]:,.2f}')\n",
    "\n",
    "# Transformação dos valores para Regressão Polinomial\n",
    "X_new_poly = poly_features.transform(X_new)\n",
    "\n",
    "# Predição usando Regressão Polinomial\n",
    "y_pred_poly_new = poly_model.predict(X_new_poly)\n",
    "print(f'Predição com Regressão Polinomial para os valores (tempo de experiência={tempo_de_experiencia_pred}, '\n",
    "      f'número de vendas={numero_de_vendas_pred}, fator sazonal={fator_sazonal_pred}): '\n",
    "      f'Receita Estimada = R$ {y_pred_poly_new[0]:,.2f}')"
   ]
  }
 ],
 "metadata": {
  "kernelspec": {
   "display_name": "supervised_algorithms-WLhrZFFA",
   "language": "python",
   "name": "python3"
  },
  "language_info": {
   "codemirror_mode": {
    "name": "ipython",
    "version": 3
   },
   "file_extension": ".py",
   "mimetype": "text/x-python",
   "name": "python",
   "nbconvert_exporter": "python",
   "pygments_lexer": "ipython3",
   "version": "3.11.3"
  }
 },
 "nbformat": 4,
 "nbformat_minor": 2
}
